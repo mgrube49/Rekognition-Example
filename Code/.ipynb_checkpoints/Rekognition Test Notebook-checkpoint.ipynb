{
 "cells": [
  {
   "cell_type": "markdown",
   "metadata": {},
   "source": [
    "# AWS Rekognition API Text Extraction Example\n",
    "Michael Grube | June 6, 2019\n",
    "\n",
    "### Purpose:\n",
    "\n",
    "To demonstrate how to run images through the AWS Rekognition API to do Text Extraction. The resulting csv has a row for each word with greater than 50% confidence.\n",
    "\n",
    "### Repo used to build out notebook\n",
    "\n",
    "https://github.com/norawebbwilliams/image_autotaggers"
   ]
  },
  {
   "cell_type": "markdown",
   "metadata": {},
   "source": [
    "### Modules"
   ]
  },
  {
   "cell_type": "code",
   "execution_count": 25,
   "metadata": {},
   "outputs": [],
   "source": [
    "import csv\n",
    "import boto3 \n",
    "import pickle\n",
    "import os"
   ]
  },
  {
   "cell_type": "markdown",
   "metadata": {},
   "source": [
    "### Paths"
   ]
  },
  {
   "cell_type": "code",
   "execution_count": 26,
   "metadata": {},
   "outputs": [],
   "source": [
    "########### Paths\n",
    "### MUST ADJUST HERE (1/2)\n",
    "# Path to where your want to save the resulting labels\n",
    "rekog_results_dir = 'C:/Users/michael.grube/Documents/GitHub/Rekognition-Example/Data/'\n",
    "# e.g.:\n",
    "#rekog_results_dir = 'C:/Users/Nora/Desktop/auto_tagger_example/results/'\n",
    "\n",
    "# Path to where your images are\n",
    "rekog_images_dir = 'C:/Users/michael.grube/Documents/GitHub/Rekognition-Example/Images/'\n",
    "# e.g.:\n",
    "#rekog_images_dir = 'C:/Users/Nora/Desktop/auto_tagger_example/data/'"
   ]
  },
  {
   "cell_type": "markdown",
   "metadata": {},
   "source": [
    "### Connect to Rekognition API"
   ]
  },
  {
   "cell_type": "code",
   "execution_count": 27,
   "metadata": {},
   "outputs": [],
   "source": [
    "# Read in your personal keys\n",
    "# You can hard code your access key ID and secret key ID into the script, \n",
    "# but this is not recommended\n",
    "\n",
    "personal_access_key = \"your_personal_access_key\"\n",
    "secret_access_key = \"your_secret_access_key\"\n",
    "\n",
    "# Instead we recommend storing your keys securely in a csv or text file.\n",
    "# For example, if you have saved your keys in a csv:\n",
    "\n",
    "credentials = []\n",
    "\n",
    "### MUST ADJUST HERE (2/2)\n",
    "with open('C:/Users/michael.grube/Documents/AWS Access Keys/accessKeysAdministrator.csv', newline='') as csvfile:\n",
    "\n",
    "# e.g.:\n",
    "#with open('C:/Users/Nora/Desktop/auto_tagger_example/keys/AWS_personal_nora_admin_credentials.csv', newline='') as csvfile:\n",
    "    reader = csv.DictReader(csvfile)\n",
    "    for row in reader:\n",
    "        credentials.append(row)\n",
    "\n",
    "personal_access_key = credentials[0]['Access key ID']\n",
    "secret_access_key = credentials[0]['Secret access key']\n",
    "\n",
    "# Initialize the boto client to access the Rekogniton api\n",
    "client=boto3.client('rekognition','us-east-1', # or choose the best region for your work, \n",
    "                                               # e.g. the location of your S3 bucket if using that method to store images\n",
    "                    aws_access_key_id = personal_access_key, \n",
    "                    aws_secret_access_key = secret_access_key) "
   ]
  },
  {
   "cell_type": "markdown",
   "metadata": {},
   "source": [
    "### Create a list of images to run through the API"
   ]
  },
  {
   "cell_type": "code",
   "execution_count": 28,
   "metadata": {},
   "outputs": [],
   "source": [
    "# Make a list of all the images in the rekog_data_dir you created\n",
    "local_images = os.listdir(rekog_images_dir)"
   ]
  },
  {
   "cell_type": "markdown",
   "metadata": {},
   "source": [
    "### Run each image through the API and store the results"
   ]
  },
  {
   "cell_type": "code",
   "execution_count": 29,
   "metadata": {
    "scrolled": false
   },
   "outputs": [
    {
     "name": "stdout",
     "output_type": "stream",
     "text": [
      "Detected Text for amazon.jpg\n",
      "LIN amazon : 95.84225463867188%\n",
      "amazon : 99.8985595703125%\n",
      "LIN : 91.78595733642578%\n"
     ]
    },
    {
     "data": {
      "text/plain": [
       "3"
      ]
     },
     "execution_count": 29,
     "metadata": {},
     "output_type": "execute_result"
    }
   ],
   "source": [
    "##### Detect text\n",
    "## \n",
    "holder_text = []\n",
    "\n",
    "for imageFile in local_images:\n",
    "    with open(rekog_images_dir + imageFile, 'rb') as image:\n",
    "            response = client.detect_text(Image={'Bytes': image.read()})\n",
    "    \n",
    "    print('Detected Text for ' + imageFile)\n",
    "    \n",
    "    ## If no text detected, still save the info:\n",
    "    if len(response['TextDetections']) == 0:\n",
    "        print (\"No text Detected\")\n",
    "        temp_dict = {}\n",
    "        temp_dict[\"image_id\"] = imageFile\n",
    "        temp_dict[\"full_detect_text_response\"] = response\n",
    "        temp_dict[\"text_num\"] = ''\n",
    "        temp_dict[\"text_str\"] = ''\n",
    "        temp_dict[\"text_conf\"] = ''\n",
    "        temp_dict[\"text_orient_correct\"] = response['OrientationCorrection']\n",
    "        holder_text.append(temp_dict)   \n",
    "    \n",
    "    else:\n",
    "        \n",
    "        text_counter = 1\n",
    "        \n",
    "        for text in response['TextDetections']:\n",
    "            print (text['DetectedText'] + ' : ' + str(text['Confidence']) + '%')\n",
    "            temp_dict = {}\n",
    "            temp_dict[\"image_id\"] = imageFile\n",
    "            temp_dict[\"full_detect_text_response\"] = response\n",
    "            temp_dict[\"text_num\"] = text_counter\n",
    "            temp_dict[\"text_str\"] = text['DetectedText']\n",
    "            temp_dict[\"text_conf\"] = text['Confidence']\n",
    "            temp_dict[\"text_type\"] = text['Type']\n",
    "            text_counter +=1 # update for the next text\n",
    "            holder_text.append(temp_dict)\n",
    "          \n",
    "len(holder_text)\n"
   ]
  },
  {
   "cell_type": "markdown",
   "metadata": {},
   "source": [
    "### Write out the results to a csv"
   ]
  },
  {
   "cell_type": "code",
   "execution_count": 30,
   "metadata": {},
   "outputs": [],
   "source": [
    "# Write out the results to a csv\n",
    "with open(rekog_results_dir + 'awsrekognition_detect_text.csv', 'w', newline = '') as csvfile:\n",
    "    fieldnames = ['image_id', 'full_detect_text_response',\n",
    "                  'text_num', 'text_str',\n",
    "                  'text_conf', 'label_orient_correc'\n",
    "                  ]\n",
    "    writer = csv.DictWriter(csvfile, fieldnames=fieldnames)\n",
    "    writer.writeheader() \n",
    "    for entry in holder_labels:\n",
    "        writer.writerow(entry)"
   ]
  },
  {
   "cell_type": "code",
   "execution_count": null,
   "metadata": {},
   "outputs": [],
   "source": []
  },
  {
   "cell_type": "code",
   "execution_count": null,
   "metadata": {},
   "outputs": [],
   "source": []
  }
 ],
 "metadata": {
  "kernelspec": {
   "display_name": "Python 3",
   "language": "python",
   "name": "python3"
  },
  "language_info": {
   "codemirror_mode": {
    "name": "ipython",
    "version": 3
   },
   "file_extension": ".py",
   "mimetype": "text/x-python",
   "name": "python",
   "nbconvert_exporter": "python",
   "pygments_lexer": "ipython3",
   "version": "3.7.0"
  }
 },
 "nbformat": 4,
 "nbformat_minor": 2
}
