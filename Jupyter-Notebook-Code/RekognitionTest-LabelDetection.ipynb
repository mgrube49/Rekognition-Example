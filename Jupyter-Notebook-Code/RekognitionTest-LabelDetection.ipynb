{
 "cells": [
  {
   "cell_type": "markdown",
   "metadata": {},
   "source": [
    "# AWS Rekognition API Label Detection Example\n",
    "Michael Grube | June 6, 2019\n",
    "\n",
    "### Purpose:\n",
    "\n",
    "To demonstrate how to run images through the AWS Rekognition API to do Label Detection. The resulting csv has a row for each label with greater than 50% confidence.\n",
    "\n",
    "### Repo used to build out notebook\n",
    "\n",
    "https://github.com/norawebbwilliams/image_autotaggers"
   ]
  },
  {
   "cell_type": "markdown",
   "metadata": {},
   "source": [
    "### Modules"
   ]
  },
  {
   "cell_type": "code",
   "execution_count": 10,
   "metadata": {},
   "outputs": [],
   "source": [
    "import csv\n",
    "import boto3 \n",
    "import pickle\n",
    "import os"
   ]
  },
  {
   "cell_type": "markdown",
   "metadata": {},
   "source": [
    "### Paths"
   ]
  },
  {
   "cell_type": "code",
   "execution_count": 11,
   "metadata": {},
   "outputs": [],
   "source": [
    "########### Paths\n",
    "### MUST ADJUST HERE (1/2)\n",
    "# Path to where your want to save the resulting labels\n",
    "rekog_results_dir = 'C:/Users/michael.grube/Documents/GitHub/Rekognition-Example/Data/'\n",
    "# e.g.:\n",
    "#rekog_results_dir = 'C:/Users/Nora/Desktop/auto_tagger_example/results/'\n",
    "\n",
    "# Path to where your images are\n",
    "rekog_images_dir = 'C:/Users/michael.grube/Documents/GitHub/Rekognition-Example/Images_Label/'\n",
    "# e.g.:\n",
    "#rekog_images_dir = 'C:/Users/Nora/Desktop/auto_tagger_example/data/'"
   ]
  },
  {
   "cell_type": "markdown",
   "metadata": {},
   "source": [
    "### Connect to Rekognition API"
   ]
  },
  {
   "cell_type": "code",
   "execution_count": 12,
   "metadata": {},
   "outputs": [],
   "source": [
    "# Read in your personal keys\n",
    "# You can hard code your access key ID and secret key ID into the script, \n",
    "# but this is not recommended\n",
    "\n",
    "personal_access_key = \"your_personal_access_key\"\n",
    "secret_access_key = \"your_secret_access_key\"\n",
    "\n",
    "# Instead we recommend storing your keys securely in a csv or text file.\n",
    "# For example, if you have saved your keys in a csv:\n",
    "\n",
    "credentials = []\n",
    "\n",
    "### MUST ADJUST HERE (2/2)\n",
    "with open('C:/Users/michael.grube/Documents/AWS Access Keys/accessKeysAdministrator.csv', newline='') as csvfile:\n",
    "\n",
    "# e.g.:\n",
    "#with open('C:/Users/Nora/Desktop/auto_tagger_example/keys/AWS_personal_nora_admin_credentials.csv', newline='') as csvfile:\n",
    "    reader = csv.DictReader(csvfile)\n",
    "    for row in reader:\n",
    "        credentials.append(row)\n",
    "\n",
    "personal_access_key = credentials[0]['Access key ID']\n",
    "secret_access_key = credentials[0]['Secret access key']\n",
    "\n",
    "# Initialize the boto client to access the Rekogniton api\n",
    "client=boto3.client('rekognition','us-east-1', # or choose the best region for your work, \n",
    "                                               # e.g. the location of your S3 bucket if using that method to store images\n",
    "                    aws_access_key_id = personal_access_key, \n",
    "                    aws_secret_access_key = secret_access_key) "
   ]
  },
  {
   "cell_type": "markdown",
   "metadata": {},
   "source": [
    "### Create a list of images to run through the API"
   ]
  },
  {
   "cell_type": "code",
   "execution_count": 13,
   "metadata": {},
   "outputs": [],
   "source": [
    "# Make a list of all the images in the rekog_data_dir you created\n",
    "local_images = os.listdir(rekog_images_dir)"
   ]
  },
  {
   "cell_type": "markdown",
   "metadata": {},
   "source": [
    "### Run each image through the API and store the results"
   ]
  },
  {
   "cell_type": "code",
   "execution_count": 36,
   "metadata": {
    "scrolled": false
   },
   "outputs": [
    {
     "name": "stdout",
     "output_type": "stream",
     "text": [
      "Detected Labels for cherries.jpeg\n",
      "Plant : 99.62244415283203%\n",
      "[]\n",
      "Fruit : 97.097412109375%\n",
      "[{'Name': 'Plant'}, {'Name': 'Food'}]\n",
      "Food : 97.097412109375%\n",
      "[]\n",
      "Cherry : 87.27527618408203%\n",
      "[{'Name': 'Fruit'}, {'Name': 'Plant'}, {'Name': 'Food'}]\n",
      "Detected Labels for eclipse.jpg\n",
      "Astronomy : 99.05462646484375%\n",
      "[]\n",
      "Eclipse : 99.05462646484375%\n",
      "[{'Name': 'Astronomy'}]\n",
      "Night : 98.57241821289062%\n",
      "[{'Name': 'Nature'}, {'Name': 'Outdoors'}]\n",
      "Nature : 98.57241821289062%\n",
      "[]\n",
      "Space : 98.57241821289062%\n",
      "[{'Name': 'Astronomy'}]\n",
      "Outer Space : 98.57241821289062%\n",
      "[{'Name': 'Astronomy'}]\n",
      "Universe : 98.57241821289062%\n",
      "[{'Name': 'Astronomy'}]\n",
      "Outdoors : 98.57241821289062%\n",
      "[]\n",
      "Moon : 98.57241821289062%\n",
      "[{'Name': 'Outer Space'}, {'Name': 'Astronomy'}, {'Name': 'Night'}, {'Name': 'Nature'}, {'Name': 'Outdoors'}]\n",
      "Lunar Eclipse : 95.44381713867188%\n",
      "[{'Name': 'Outer Space'}, {'Name': 'Moon'}, {'Name': 'Astronomy'}, {'Name': 'Eclipse'}, {'Name': 'Night'}, {'Name': 'Nature'}, {'Name': 'Outdoors'}]\n",
      "Detected Labels for paintbrush_sketch.jpg\n",
      "Drawing : 96.8222427368164%\n",
      "[{'Name': 'Art'}]\n",
      "Art : 96.8222427368164%\n",
      "[]\n",
      "Sketch : 92.78931427001953%\n",
      "[{'Name': 'Drawing'}, {'Name': 'Art'}]\n",
      "Plot : 55.28581237792969%\n",
      "[]\n",
      "Detected Labels for vase.jpg\n",
      "Porcelain : 97.0811996459961%\n",
      "[{'Name': 'Art'}, {'Name': 'Pottery'}]\n",
      "Art : 97.0811996459961%\n",
      "[]\n",
      "Pottery : 97.0811996459961%\n",
      "[]\n",
      "Jug : 93.93916320800781%\n",
      "[]\n",
      "Jar : 92.5818862915039%\n",
      "[]\n",
      "Vase : 92.5818862915039%\n",
      "[{'Name': 'Jar'}, {'Name': 'Pottery'}]\n",
      "Jewelry : 65.22486877441406%\n",
      "[{'Name': 'Accessories'}]\n",
      "Accessory : 65.22486877441406%\n",
      "[]\n",
      "Accessories : 65.22486877441406%\n",
      "[]\n",
      "Locket : 65.22486877441406%\n",
      "[{'Name': 'Jewelry'}, {'Name': 'Accessories'}, {'Name': 'Pendant'}]\n",
      "Pendant : 65.22486877441406%\n",
      "[]\n"
     ]
    },
    {
     "data": {
      "text/plain": [
       "29"
      ]
     },
     "execution_count": 36,
     "metadata": {},
     "output_type": "execute_result"
    }
   ],
   "source": [
    "##### Detect label\n",
    "## \n",
    "holder_labels = []\n",
    "\n",
    "for imageFile in local_images:\n",
    "    with open(rekog_images_dir + imageFile, 'rb') as image:\n",
    "            response = client.detect_labels(Image={'Bytes': image.read()})\n",
    "    \n",
    "    print('Detected Labels for ' + imageFile)\n",
    "    \n",
    "    ## If no label detected, still save the info:\n",
    "    if len(response['Labels']) == 0:\n",
    "        print (\"No Label Detected\")\n",
    "        temp_dict = {}\n",
    "        temp_dict[\"image_id\"] = imageFile\n",
    "        temp_dict[\"full_detect_labels_response\"] = response\n",
    "        temp_dict[\"label_num\"] = ''\n",
    "        temp_dict[\"label_str\"] = ''\n",
    "        temp_dict[\"label_conf\"] = ''\n",
    "        temp_dict[\"label_parents\"] = ''\n",
    "        holder_labels.append(temp_dict)   \n",
    "    \n",
    "    else:\n",
    "        \n",
    "        label_counter = 1\n",
    "        \n",
    "        for label in response['Labels']:\n",
    "            print (label['Name'] + ' : ' + str(label['Confidence']) + '%')\n",
    "            print (label['Parents'])\n",
    "            temp_dict = {}\n",
    "            temp_dict[\"image_id\"] = imageFile\n",
    "            temp_dict[\"full_detect_labels_response\"] = response\n",
    "            temp_dict[\"label_num\"] = label_counter\n",
    "            temp_dict[\"label_str\"] = label['Name']\n",
    "            temp_dict[\"label_conf\"] = label['Confidence']\n",
    "            temp_dict[\"label_parents\"] = label['Parents']\n",
    "            label_counter +=1 # update for the next label\n",
    "            holder_labels.append(temp_dict)\n",
    "          \n",
    "len(holder_labels)\n"
   ]
  },
  {
   "cell_type": "markdown",
   "metadata": {},
   "source": [
    "### Write out the results to a csv"
   ]
  },
  {
   "cell_type": "code",
   "execution_count": 37,
   "metadata": {},
   "outputs": [
    {
     "name": "stdout",
     "output_type": "stream",
     "text": [
      "Success\n"
     ]
    }
   ],
   "source": [
    "# Write out the results to a csv\n",
    "with open(rekog_results_dir + 'awsrekognition_detect_label.csv', 'w', newline = '') as csvfile:\n",
    "    fieldnames = ['image_id', 'full_detect_labels_response',\n",
    "                  'label_num', 'label_str',\n",
    "                  'label_conf', 'label_parents'\n",
    "                  ]\n",
    "    writer = csv.DictWriter(csvfile, fieldnames=fieldnames)\n",
    "    writer.writeheader() \n",
    "    for entry in holder_labels:\n",
    "        writer.writerow(entry)\n",
    "        \n",
    "print(\"Success\")"
   ]
  },
  {
   "cell_type": "code",
   "execution_count": null,
   "metadata": {},
   "outputs": [],
   "source": []
  },
  {
   "cell_type": "code",
   "execution_count": null,
   "metadata": {},
   "outputs": [],
   "source": []
  }
 ],
 "metadata": {
  "kernelspec": {
   "display_name": "Python 3",
   "language": "python",
   "name": "python3"
  },
  "language_info": {
   "codemirror_mode": {
    "name": "ipython",
    "version": 3
   },
   "file_extension": ".py",
   "mimetype": "text/x-python",
   "name": "python",
   "nbconvert_exporter": "python",
   "pygments_lexer": "ipython3",
   "version": "3.7.0"
  }
 },
 "nbformat": 4,
 "nbformat_minor": 2
}
