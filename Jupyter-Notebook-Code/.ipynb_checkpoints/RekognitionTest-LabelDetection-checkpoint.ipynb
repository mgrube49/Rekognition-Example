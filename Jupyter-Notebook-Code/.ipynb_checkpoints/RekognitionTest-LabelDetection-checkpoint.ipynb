{
 "cells": [
  {
   "cell_type": "markdown",
   "metadata": {},
   "source": [
    "# AWS Rekognition API Label Detection Example\n",
    "Michael Grube | June 6, 2019\n",
    "\n",
    "### Purpose:\n",
    "\n",
    "To demonstrate how to run images through the AWS Rekognition API to do Label Detection. The resulting csv has a row for each label with greater than 50% confidence.\n",
    "\n",
    "### Repo used to build out notebook\n",
    "\n",
    "https://github.com/norawebbwilliams/image_autotaggers"
   ]
  },
  {
   "cell_type": "markdown",
   "metadata": {},
   "source": [
    "### Modules"
   ]
  },
  {
   "cell_type": "code",
   "execution_count": 10,
   "metadata": {},
   "outputs": [],
   "source": [
    "import csv\n",
    "import boto3 \n",
    "import pickle\n",
    "import os"
   ]
  },
  {
   "cell_type": "markdown",
   "metadata": {},
   "source": [
    "### Paths"
   ]
  },
  {
   "cell_type": "code",
   "execution_count": 11,
   "metadata": {},
   "outputs": [],
   "source": [
    "########### Paths\n",
    "### MUST ADJUST HERE (1/2)\n",
    "# Path to where your want to save the resulting labels\n",
    "rekog_results_dir = 'C:/Users/michael.grube/Documents/GitHub/Rekognition-Example/Data/'\n",
    "# e.g.:\n",
    "#rekog_results_dir = 'C:/Users/Nora/Desktop/auto_tagger_example/results/'\n",
    "\n",
    "# Path to where your images are\n",
    "rekog_images_dir = 'C:/Users/michael.grube/Documents/GitHub/Rekognition-Example/Images_Label/'\n",
    "# e.g.:\n",
    "#rekog_images_dir = 'C:/Users/Nora/Desktop/auto_tagger_example/data/'"
   ]
  },
  {
   "cell_type": "markdown",
   "metadata": {},
   "source": [
    "### Connect to Rekognition API"
   ]
  },
  {
   "cell_type": "code",
   "execution_count": 12,
   "metadata": {},
   "outputs": [],
   "source": [
    "# Read in your personal keys\n",
    "# You can hard code your access key ID and secret key ID into the script, \n",
    "# but this is not recommended\n",
    "\n",
    "personal_access_key = \"your_personal_access_key\"\n",
    "secret_access_key = \"your_secret_access_key\"\n",
    "\n",
    "# Instead we recommend storing your keys securely in a csv or text file.\n",
    "# For example, if you have saved your keys in a csv:\n",
    "\n",
    "credentials = []\n",
    "\n",
    "### MUST ADJUST HERE (2/2)\n",
    "with open('C:/Users/michael.grube/Documents/AWS Access Keys/accessKeysAdministrator.csv', newline='') as csvfile:\n",
    "\n",
    "# e.g.:\n",
    "#with open('C:/Users/Nora/Desktop/auto_tagger_example/keys/AWS_personal_nora_admin_credentials.csv', newline='') as csvfile:\n",
    "    reader = csv.DictReader(csvfile)\n",
    "    for row in reader:\n",
    "        credentials.append(row)\n",
    "\n",
    "personal_access_key = credentials[0]['Access key ID']\n",
    "secret_access_key = credentials[0]['Secret access key']\n",
    "\n",
    "# Initialize the boto client to access the Rekogniton api\n",
    "client=boto3.client('rekognition','us-east-1', # or choose the best region for your work, \n",
    "                                               # e.g. the location of your S3 bucket if using that method to store images\n",
    "                    aws_access_key_id = personal_access_key, \n",
    "                    aws_secret_access_key = secret_access_key) "
   ]
  },
  {
   "cell_type": "markdown",
   "metadata": {},
   "source": [
    "### Create a list of images to run through the API"
   ]
  },
  {
   "cell_type": "code",
   "execution_count": 13,
   "metadata": {},
   "outputs": [],
   "source": [
    "# Make a list of all the images in the rekog_data_dir you created\n",
    "local_images = os.listdir(rekog_images_dir)"
   ]
  },
  {
   "cell_type": "markdown",
   "metadata": {},
   "source": [
    "### Run each image through the API and store the results"
   ]
  },
  {
   "cell_type": "code",
   "execution_count": 24,
   "metadata": {
    "scrolled": false
   },
   "outputs": [
    {
     "name": "stdout",
     "output_type": "stream",
     "text": [
      "Detected Labels for cherries.jpeg\n",
      "Plant : 99.62244415283203%\n",
      "Food : 97.097412109375%\n",
      "Fruit : 97.097412109375%\n",
      "Cherry : 87.27527618408203%\n",
      "Detected Labels for eclipse.jpg\n",
      "Astronomy : 99.05462646484375%\n",
      "Eclipse : 99.05462646484375%\n",
      "Space : 98.57241821289062%\n",
      "Moon : 98.57241821289062%\n",
      "Outdoors : 98.57241821289062%\n",
      "Night : 98.57241821289062%\n",
      "Nature : 98.57241821289062%\n",
      "Universe : 98.57241821289062%\n",
      "Outer Space : 98.57241821289062%\n",
      "Lunar Eclipse : 95.44381713867188%\n",
      "Detected Labels for paintbrush_sketch.jpg\n",
      "Drawing : 96.8222427368164%\n",
      "Art : 96.8222427368164%\n",
      "Sketch : 92.78931427001953%\n",
      "Plot : 55.28581237792969%\n",
      "Detected Labels for vase.jpg\n",
      "Art : 97.08119201660156%\n",
      "Porcelain : 97.08119201660156%\n",
      "Pottery : 97.08119201660156%\n",
      "Jug : 93.93929290771484%\n",
      "Jar : 92.58171844482422%\n",
      "Vase : 92.58171844482422%\n",
      "Locket : 65.22486877441406%\n",
      "Accessories : 65.22486877441406%\n",
      "Pendant : 65.22486877441406%\n",
      "Accessory : 65.22486877441406%\n",
      "Jewelry : 65.22486877441406%\n"
     ]
    },
    {
     "data": {
      "text/plain": [
       "29"
      ]
     },
     "execution_count": 24,
     "metadata": {},
     "output_type": "execute_result"
    }
   ],
   "source": [
    "##### Detect label\n",
    "## \n",
    "holder_labels = []\n",
    "\n",
    "for imageFile in local_images:\n",
    "    with open(rekog_images_dir + imageFile, 'rb') as image:\n",
    "            response = client.detect_labels(Image={'Bytes': image.read()})\n",
    "    \n",
    "    print('Detected Labels for ' + imageFile)\n",
    "    \n",
    "    ## If no label detected, still save the info:\n",
    "    if len(response['Labels']) == 0:\n",
    "        print (\"No Label Detected\")\n",
    "        temp_dict = {}\n",
    "        temp_dict[\"image_id\"] = imageFile\n",
    "        temp_dict[\"full_detect_labels_response\"] = response\n",
    "        temp_dict[\"label_num\"] = ''\n",
    "        temp_dict[\"label_str\"] = ''\n",
    "        temp_dict[\"label_conf\"] = ''\n",
    "        for parent in label['Parents']: \n",
    "                temp_dict[\"label_parents\"].append(parent['Name'] + ',')\n",
    "        holder_labels.append(temp_dict)   \n",
    "    \n",
    "    else:\n",
    "        \n",
    "        label_counter = 1\n",
    "        \n",
    "        for label in response['Labels']:\n",
    "            print (label['Name'] + ' : ' + str(label['Confidence']) + '%')\n",
    "            temp_dict = {}\n",
    "            temp_dict[\"image_id\"] = imageFile\n",
    "            temp_dict[\"full_detect_labels_response\"] = response\n",
    "            temp_dict[\"label_num\"] = label_counter\n",
    "            temp_dict[\"label_str\"] = label['Name']\n",
    "            temp_dict[\"label_conf\"] = label['Confidence']\n",
    "            for parent in label['Parents']: \n",
    "                temp_dict[\"label_parents\"] = [parent['Name']]\n",
    "            label_counter +=1 # update for the next label\n",
    "            holder_labels.append(temp_dict)\n",
    "          \n",
    "len(holder_labels)\n"
   ]
  },
  {
   "cell_type": "markdown",
   "metadata": {},
   "source": [
    "### Write out the results to a csv"
   ]
  },
  {
   "cell_type": "code",
   "execution_count": 27,
   "metadata": {},
   "outputs": [
    {
     "ename": "ValueError",
     "evalue": "dict contains fields not in fieldnames: 'Parents'",
     "output_type": "error",
     "traceback": [
      "\u001b[1;31m---------------------------------------------------------------------------\u001b[0m",
      "\u001b[1;31mValueError\u001b[0m                                Traceback (most recent call last)",
      "\u001b[1;32m<ipython-input-27-57be23957fc6>\u001b[0m in \u001b[0;36m<module>\u001b[1;34m\u001b[0m\n\u001b[0;32m      8\u001b[0m     \u001b[0mwriter\u001b[0m\u001b[1;33m.\u001b[0m\u001b[0mwriteheader\u001b[0m\u001b[1;33m(\u001b[0m\u001b[1;33m)\u001b[0m\u001b[1;33m\u001b[0m\u001b[0m\n\u001b[0;32m      9\u001b[0m     \u001b[1;32mfor\u001b[0m \u001b[0mentry\u001b[0m \u001b[1;32min\u001b[0m \u001b[0mholder_labels\u001b[0m\u001b[1;33m:\u001b[0m\u001b[1;33m\u001b[0m\u001b[0m\n\u001b[1;32m---> 10\u001b[1;33m         \u001b[0mwriter\u001b[0m\u001b[1;33m.\u001b[0m\u001b[0mwriterow\u001b[0m\u001b[1;33m(\u001b[0m\u001b[0mentry\u001b[0m\u001b[1;33m)\u001b[0m\u001b[1;33m\u001b[0m\u001b[0m\n\u001b[0m",
      "\u001b[1;32m~\\AppData\\Local\\Continuum\\miniconda3\\lib\\csv.py\u001b[0m in \u001b[0;36mwriterow\u001b[1;34m(self, rowdict)\u001b[0m\n\u001b[0;32m    153\u001b[0m \u001b[1;33m\u001b[0m\u001b[0m\n\u001b[0;32m    154\u001b[0m     \u001b[1;32mdef\u001b[0m \u001b[0mwriterow\u001b[0m\u001b[1;33m(\u001b[0m\u001b[0mself\u001b[0m\u001b[1;33m,\u001b[0m \u001b[0mrowdict\u001b[0m\u001b[1;33m)\u001b[0m\u001b[1;33m:\u001b[0m\u001b[1;33m\u001b[0m\u001b[0m\n\u001b[1;32m--> 155\u001b[1;33m         \u001b[1;32mreturn\u001b[0m \u001b[0mself\u001b[0m\u001b[1;33m.\u001b[0m\u001b[0mwriter\u001b[0m\u001b[1;33m.\u001b[0m\u001b[0mwriterow\u001b[0m\u001b[1;33m(\u001b[0m\u001b[0mself\u001b[0m\u001b[1;33m.\u001b[0m\u001b[0m_dict_to_list\u001b[0m\u001b[1;33m(\u001b[0m\u001b[0mrowdict\u001b[0m\u001b[1;33m)\u001b[0m\u001b[1;33m)\u001b[0m\u001b[1;33m\u001b[0m\u001b[0m\n\u001b[0m\u001b[0;32m    156\u001b[0m \u001b[1;33m\u001b[0m\u001b[0m\n\u001b[0;32m    157\u001b[0m     \u001b[1;32mdef\u001b[0m \u001b[0mwriterows\u001b[0m\u001b[1;33m(\u001b[0m\u001b[0mself\u001b[0m\u001b[1;33m,\u001b[0m \u001b[0mrowdicts\u001b[0m\u001b[1;33m)\u001b[0m\u001b[1;33m:\u001b[0m\u001b[1;33m\u001b[0m\u001b[0m\n",
      "\u001b[1;32m~\\AppData\\Local\\Continuum\\miniconda3\\lib\\csv.py\u001b[0m in \u001b[0;36m_dict_to_list\u001b[1;34m(self, rowdict)\u001b[0m\n\u001b[0;32m    149\u001b[0m             \u001b[1;32mif\u001b[0m \u001b[0mwrong_fields\u001b[0m\u001b[1;33m:\u001b[0m\u001b[1;33m\u001b[0m\u001b[0m\n\u001b[0;32m    150\u001b[0m                 raise ValueError(\"dict contains fields not in fieldnames: \"\n\u001b[1;32m--> 151\u001b[1;33m                                  + \", \".join([repr(x) for x in wrong_fields]))\n\u001b[0m\u001b[0;32m    152\u001b[0m         \u001b[1;32mreturn\u001b[0m \u001b[1;33m(\u001b[0m\u001b[0mrowdict\u001b[0m\u001b[1;33m.\u001b[0m\u001b[0mget\u001b[0m\u001b[1;33m(\u001b[0m\u001b[0mkey\u001b[0m\u001b[1;33m,\u001b[0m \u001b[0mself\u001b[0m\u001b[1;33m.\u001b[0m\u001b[0mrestval\u001b[0m\u001b[1;33m)\u001b[0m \u001b[1;32mfor\u001b[0m \u001b[0mkey\u001b[0m \u001b[1;32min\u001b[0m \u001b[0mself\u001b[0m\u001b[1;33m.\u001b[0m\u001b[0mfieldnames\u001b[0m\u001b[1;33m)\u001b[0m\u001b[1;33m\u001b[0m\u001b[0m\n\u001b[0;32m    153\u001b[0m \u001b[1;33m\u001b[0m\u001b[0m\n",
      "\u001b[1;31mValueError\u001b[0m: dict contains fields not in fieldnames: 'Parents'"
     ]
    }
   ],
   "source": [
    "# Write out the results to a csv\n",
    "with open(rekog_results_dir + 'awsrekognition_detect_label.csv', 'w', newline = '') as csvfile:\n",
    "    fieldnames = ['image_id', 'full_detect_labels_response',\n",
    "                  'label_num', 'label_str',\n",
    "                  'label_conf', 'label_parents'\n",
    "                  ]\n",
    "    writer = csv.DictWriter(csvfile, fieldnames=fieldnames)\n",
    "    writer.writeheader() \n",
    "    for entry in holder_labels:\n",
    "        writer.writerow(entry)"
   ]
  },
  {
   "cell_type": "code",
   "execution_count": null,
   "metadata": {},
   "outputs": [],
   "source": []
  },
  {
   "cell_type": "code",
   "execution_count": null,
   "metadata": {},
   "outputs": [],
   "source": []
  }
 ],
 "metadata": {
  "kernelspec": {
   "display_name": "Python 3",
   "language": "python",
   "name": "python3"
  },
  "language_info": {
   "codemirror_mode": {
    "name": "ipython",
    "version": 3
   },
   "file_extension": ".py",
   "mimetype": "text/x-python",
   "name": "python",
   "nbconvert_exporter": "python",
   "pygments_lexer": "ipython3",
   "version": "3.7.0"
  }
 },
 "nbformat": 4,
 "nbformat_minor": 2
}
